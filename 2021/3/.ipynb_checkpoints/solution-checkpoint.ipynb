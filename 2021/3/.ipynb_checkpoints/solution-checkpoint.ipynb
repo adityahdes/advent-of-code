{
 "cells": [
  {
   "cell_type": "code",
   "execution_count": 8,
   "id": "ae178f2a",
   "metadata": {},
   "outputs": [],
   "source": [
    "import pandas as pd\n",
    "import time\n",
    "start_time = time.time()\n",
    "f = open(\"input.txt\", \"r\")\n",
    "def split(line):\n",
    "    return list(line)\n",
    "readings = f.read().splitlines()\n",
    "vals = []\n",
    "\n",
    "for reading in readings:\n",
    "    vals.append(split(reading))\n",
    "\n",
    "df = pd.DataFrame(vals)"
   ]
  },
  {
   "cell_type": "code",
   "execution_count": 9,
   "id": "c5ed4f95",
   "metadata": {},
   "outputs": [
    {
     "data": {
      "text/plain": [
       "3923414"
      ]
     },
     "execution_count": 9,
     "metadata": {},
     "output_type": "execute_result"
    }
   ],
   "source": [
    "#part 1\n",
    "binary_val = df.mode().sum().sum()\n",
    "gamma = int(binary_val,2)\n",
    "inverted_val = ''.join([str(1 - int(i)) for i in binary_val])\n",
    "epsilon = int(inverted_val,2)"
   ]
  },
  {
   "cell_type": "code",
   "execution_count": null,
   "id": "e7ea5165",
   "metadata": {},
   "outputs": [],
   "source": [
    "gamma * epsilon"
   ]
  },
  {
   "cell_type": "code",
   "execution_count": 11,
   "id": "f734948b",
   "metadata": {},
   "outputs": [
    {
     "data": {
      "text/plain": [
       "5852595"
      ]
     },
     "execution_count": 11,
     "metadata": {},
     "output_type": "execute_result"
    }
   ],
   "source": [
    "#part 2\n",
    "oxygen_df = df.copy()\n",
    "for digit in oxygen_df.columns:\n",
    "    mode = oxygen_df[digit].mode()\n",
    "    if len(mode) > 1:\n",
    "        oxygen_df = oxygen_df[oxygen_df[digit].values == '1']\n",
    "    else:\n",
    "        oxygen_df = oxygen_df[oxygen_df[digit].values == mode.iloc[0]]\n",
    "    if len(oxygen_df) == 1:\n",
    "        O2 = int(oxygen_df.iloc[0].sum(),2)\n",
    "        break"
   ]
  },
  {
   "cell_type": "code",
   "execution_count": null,
   "id": "2ba50eac",
   "metadata": {},
   "outputs": [],
   "source": [
    "CO2_df = df.copy()\n",
    "for digit in CO2_df.columns:\n",
    "    mode = CO2_df[digit].mode()\n",
    "    if len(mode) > 1:\n",
    "        CO2_df = CO2_df[CO2_df[digit].values == '0']\n",
    "    else:\n",
    "        CO2_df = CO2_df[CO2_df[digit].values == str(1-int(mode.iloc[0]))]\n",
    "    if len(CO2_df) == 1:\n",
    "        CO2 = int(CO2_df.iloc[0].sum(),2)\n",
    "        break"
   ]
  },
  {
   "cell_type": "code",
   "execution_count": null,
   "id": "318922d2",
   "metadata": {},
   "outputs": [],
   "source": [
    "O2 * CO2"
   ]
  }
 ],
 "metadata": {
  "kernelspec": {
   "display_name": "Python 3",
   "language": "python",
   "name": "python3"
  },
  "language_info": {
   "codemirror_mode": {
    "name": "ipython",
    "version": 3
   },
   "file_extension": ".py",
   "mimetype": "text/x-python",
   "name": "python",
   "nbconvert_exporter": "python",
   "pygments_lexer": "ipython3",
   "version": "3.8.8"
  }
 },
 "nbformat": 4,
 "nbformat_minor": 5
}
